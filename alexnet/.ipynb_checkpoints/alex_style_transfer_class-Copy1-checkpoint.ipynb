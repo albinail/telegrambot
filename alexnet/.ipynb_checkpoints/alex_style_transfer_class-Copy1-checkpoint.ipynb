{
 "cells": [
  {
   "cell_type": "code",
   "execution_count": 1,
   "metadata": {
    "colab": {},
    "colab_type": "code",
    "id": "AD1pZ-9AR9io"
   },
   "outputs": [],
   "source": [
    "import torchvision\n",
    "import matplotlib"
   ]
  },
  {
   "cell_type": "code",
   "execution_count": 2,
   "metadata": {
    "colab": {},
    "colab_type": "code",
    "id": "0kW967hnSWKh"
   },
   "outputs": [],
   "source": [
    "%matplotlib inline\n",
    "from PIL import Image\n",
    "\n",
    "\n",
    "import torch\n",
    "import torch.nn as nn\n",
    "import torch.nn.functional as F\n",
    "import torch.optim as optim\n",
    "\n",
    "import matplotlib.pyplot as plt\n",
    "\n",
    "\n",
    "import torchvision.transforms as transforms\n",
    "import torchvision.models as models\n",
    "\n",
    "import copy"
   ]
  },
  {
   "cell_type": "code",
   "execution_count": 3,
   "metadata": {
    "colab": {},
    "colab_type": "code",
    "id": "uwrua9KoSePB"
   },
   "outputs": [],
   "source": [
    "class ContentLoss(nn.Module):\n",
    "\n",
    "        def __init__(self, target,):\n",
    "            super(ContentLoss, self).__init__()\n",
    "            # we 'detach' the target content from the tree used\n",
    "            # to dynamically compute the gradient: this is a stated value,\n",
    "            # not a variable. Otherwise the forward method of the criterion\n",
    "            # will throw an error.\n",
    "            self.target = target.detach()#это константа. Убираем ее из дерева вычеслений\n",
    "            self.loss = F.mse_loss(self.target, self.target )#to initialize with something\n",
    "\n",
    "        def forward(self, input):\n",
    "            self.loss = F.mse_loss(input, self.target)\n",
    "            return input"
   ]
  },
  {
   "cell_type": "code",
   "execution_count": 4,
   "metadata": {
    "colab": {},
    "colab_type": "code",
    "id": "ipT_mJo5Shoh"
   },
   "outputs": [],
   "source": [
    "def gram_matrix(input):\n",
    "        batch_size , h, w, f_map_num = input.size()  # batch size(=1)\n",
    "        # b=number of feature maps\n",
    "        # (h,w)=dimensions of a feature map (N=h*w)\n",
    "\n",
    "        features = input.view(batch_size * h, w * f_map_num)  # resise F_XL into \\hat F_XL\n",
    "\n",
    "        G = torch.mm(features, features.t())  # compute the gram product\n",
    "\n",
    "        # we 'normalize' the values of the gram matrix\n",
    "        # by dividing by the number of element in each feature maps.\n",
    "        return G.div(batch_size * h * w * f_map_num)"
   ]
  },
  {
   "cell_type": "code",
   "execution_count": 5,
   "metadata": {
    "colab": {},
    "colab_type": "code",
    "id": "-8iWLNS7SpSo"
   },
   "outputs": [],
   "source": [
    "class StyleLoss(nn.Module):\n",
    "        def __init__(self, target_feature):\n",
    "            super(StyleLoss, self).__init__()\n",
    "            self.target = gram_matrix(target_feature).detach()\n",
    "            self.loss = F.mse_loss(self.target, self.target)# to initialize with something\n",
    "\n",
    "        def forward(self, input):           \n",
    "            G = gram_matrix(input)\n",
    "            self.loss = F.mse_loss(G, self.target)\n",
    "            return input"
   ]
  },
  {
   "cell_type": "code",
   "execution_count": 6,
   "metadata": {
    "colab": {},
    "colab_type": "code",
    "id": "-ouq3ME9Sq3T"
   },
   "outputs": [],
   "source": [
    "class Normalization(nn.Module):\n",
    "        def __init__(self, mean, std):\n",
    "            super(Normalization, self).__init__()\n",
    "            # .view the mean and std to make them [C x 1 x 1] so that they can\n",
    "            # directly work with image Tensor of shape [B x C x H x W].\n",
    "            # B is batch size. C is number of channels. H is height and W is width.\n",
    "            self.mean = torch.tensor(mean).view(-1, 1, 1)\n",
    "            self.std = torch.tensor(std).view(-1, 1, 1)\n",
    "\n",
    "        def forward(self, img):\n",
    "            # normalize img\n",
    "            return (img - self.mean) / self.std"
   ]
  },
  {
   "cell_type": "code",
   "execution_count": 7,
   "metadata": {
    "colab": {},
    "colab_type": "code",
    "id": "11f9HezoSs5h"
   },
   "outputs": [],
   "source": [
    "#torch.autograd.set_detect_anomaly(True)\n",
    "unloader = transforms.ToPILImage() # тензор в кратинку  \n",
    "\n",
    "plt.ion() \n",
    "\n",
    "def imshow(tensor, title=None):\n",
    "    image = tensor.cpu().clone()   \n",
    "    image = image.squeeze(0)      # функция для отрисовки изображения\n",
    "    image = unloader(image)\n",
    "    plt.imshow(image)\n",
    "    if title is not None:\n",
    "        plt.title(title)\n",
    "    plt.pause(0.001) \n",
    "\n",
    "# отрисовка\n",
    "\n",
    "#plt.figure()\n",
    "#imshow(style_img, title='Style Image') # тензор в кратинку"
   ]
  },
  {
   "cell_type": "code",
   "execution_count": 8,
   "metadata": {
    "colab": {},
    "colab_type": "code",
    "id": "RBb6ywrXSvVL"
   },
   "outputs": [],
   "source": [
    "class StyleTransfer():\n",
    "    def __init__(self, style_image_path, content_image_path):\n",
    "        imsize = 256\n",
    "        #self.loader = None\n",
    "        self.loader = transforms.Compose([transforms.Resize(imsize),  # нормируем размер изображения\n",
    "                                        transforms.CenterCrop(imsize),\n",
    "                                        transforms.ToTensor()])  # превращаем в удобный формат\n",
    "\n",
    "        self.device = torch.device(\"cuda\" if torch.cuda.is_available() else \"cpu\")\n",
    "        \n",
    "\n",
    "        self.style_img = self.image_loader(style_image_path)# as well as here\n",
    "        self.content_img = self.image_loader(content_image_path)#измените путь на тот который у вас.\n",
    "        # отрисовка\n",
    "\n",
    "        self.cnn_normalization_mean = torch.tensor([0.485, 0.456, 0.406]).to(self.device)\n",
    "        self.cnn_normalization_std = torch.tensor([0.229, 0.224, 0.225]).to(self.device)\n",
    "\n",
    "        \n",
    "        self.cnn =models.alexnet(pretrained=True).features.to(self.device).eval()\n",
    "\n",
    "        self.content_layers_default = ['conv_4']\n",
    "        \n",
    "        self.style_layers_default = ['conv_1', 'conv_2', 'conv_3', 'conv_4', 'conv_5']\n",
    "\n",
    "    def __del__(self):\n",
    "      # body of destructor\n",
    "      if torch.cuda.is_available() == True:\n",
    "        del self.cnn\n",
    "        del self.cnn_normalization_mean\n",
    "        del self.cnn_normalization_std\n",
    "\n",
    "        del self.style_img\n",
    "        del self.content_img\n",
    "\n",
    "\n",
    "        torch.cuda.empty_cache()\n",
    "\n",
    "\n",
    "    def image_loader(self, image_name):\n",
    "        image = Image.open(image_name)\n",
    "        image = self.loader(image).unsqueeze(0)\n",
    "        return image.to(self.device, torch.float)\n",
    "\n",
    "    def get_style_model_and_losses(self, cnn, normalization_mean, normalization_std,\n",
    "                                    style_img, content_img):\n",
    "        cnn = copy.deepcopy(cnn)\n",
    "        content_layers = self.content_layers_default\n",
    "        style_layers = self.style_layers_default\n",
    "\n",
    "        # normalization module\n",
    "        normalization = Normalization(normalization_mean, normalization_std).to(self.device)\n",
    "\n",
    "        # just in order to have an iterable access to or list of content/syle\n",
    "        # losses\n",
    "        content_losses = []\n",
    "        style_losses = []\n",
    "\n",
    "        # assuming that cnn is a nn.Sequential, so we make a new nn.Sequential\n",
    "        # to put in modules that are supposed to be activated sequentially\n",
    "        model = nn.Sequential(normalization)\n",
    "\n",
    "        i = 0  # increment every time we see a conv\n",
    "        for layer in cnn.children():\n",
    "            if isinstance(layer, nn.Conv2d):\n",
    "                i += 1\n",
    "                name = 'conv_{}'.format(i)\n",
    "            elif isinstance(layer, nn.ReLU):\n",
    "                name = 'relu_{}'.format(i)\n",
    "                # The in-place version doesn't play very nicely with the ContentLoss\n",
    "                # and StyleLoss we insert below. So we replace with out-of-place\n",
    "                # ones here.\n",
    "                #Переопределим relu уровень\n",
    "                layer = nn.ReLU(inplace=False)\n",
    "            elif isinstance(layer, nn.MaxPool2d):\n",
    "                name = 'pool_{}'.format(i)\n",
    "            elif isinstance(layer, nn.BatchNorm2d):\n",
    "                name = 'bn_{}'.format(i)\n",
    "            else:\n",
    "                raise RuntimeError('Unrecognized layer: {}'.format(layer.__class__.__name__))\n",
    "\n",
    "            model.add_module(name, layer)\n",
    "\n",
    "            if name in content_layers:\n",
    "                # add content loss:\n",
    "                target = model(content_img).detach()\n",
    "                content_loss = ContentLoss(target)\n",
    "                model.add_module(\"content_loss_{}\".format(i), content_loss)\n",
    "                content_losses.append(content_loss)\n",
    "\n",
    "            if name in style_layers:\n",
    "                # add style loss:\n",
    "                target_feature = model(style_img).detach()\n",
    "                style_loss = StyleLoss(target_feature)\n",
    "                model.add_module(\"style_loss_{}\".format(i), style_loss)\n",
    "                style_losses.append(style_loss)\n",
    "\n",
    "          # now we trim off the layers after the last content and style losses\n",
    "          #выбрасываем все уровни после последенего styel loss или content loss\n",
    "        for i in range(len(model) - 1, -1, -1):\n",
    "            if isinstance(model[i], ContentLoss) or isinstance(model[i], StyleLoss):\n",
    "                break\n",
    "\n",
    "        model = model[:(i + 1)]\n",
    "\n",
    "        return model, style_losses, content_losses\n",
    "\n",
    "    def get_input_optimizer(self, input_img):\n",
    "        # this line to show that input is a parameter that requires a gradient\n",
    "        #добоваляет содержимое тензора катринки в список изменяемых оптимизатором параметров\n",
    "        optimizer = optim.LBFGS([input_img.requires_grad_()]) \n",
    "        return optimizer\n",
    "\n",
    "   #un_style_transfer(cnn, normalization_mean, normalization_std,  content_img, style_img, input_img, num_steps=400, style_weight=5000, content_weight=1):\n",
    "    def run_style_transfer(self, cnn, normalization_mean, normalization_std,\n",
    "                          content_img, style_img, input_img, num_steps=400,\n",
    "                        style_weight=5000, content_weight=1):\n",
    "        \"\"\"Run the style transfer.\"\"\"\n",
    "        print('Building the style transfer model..')\n",
    "        model, style_losses, content_losses = self.get_style_model_and_losses(cnn,normalization_mean, normalization_std, style_img, content_img)\n",
    "        optimizer = self.get_input_optimizer(input_img)\n",
    "        print('Optimizing..')\n",
    "        run = [0]\n",
    "        while run[0] <= num_steps:\n",
    "            def closure():\n",
    "                # correct the values\n",
    "                # это для того, чтобы значения тензора картинки не выходили за пределы [0;1]\n",
    "                input_img.data.clamp_(0, 1)\n",
    "\n",
    "                optimizer.zero_grad()\n",
    "\n",
    "                model(input_img)\n",
    "\n",
    "                style_score = 0\n",
    "                content_score = 0\n",
    "\n",
    "                for sl in style_losses:\n",
    "                    style_score += sl.loss\n",
    "                for cl in content_losses:\n",
    "                    content_score += cl.loss\n",
    "\n",
    "                #взвешивание ощибки\n",
    "                style_score *= style_weight\n",
    "                content_score *= content_weight\n",
    "\n",
    "                loss = style_score + content_score\n",
    "                loss.backward()\n",
    "\n",
    "                run[0] += 1\n",
    "                if run[0] % 50 == 0:\n",
    "                    print(\"run {}:\".format(run))\n",
    "                    print('Style Loss : {:4f} Content Loss: {:4f}'.format(\n",
    "                        style_score.item(), content_score.item()))\n",
    "                    print()\n",
    "\n",
    "                return style_score + content_score\n",
    "\n",
    "            optimizer.step(closure)\n",
    "\n",
    "          # a last correction...\n",
    "        input_img.data.clamp_(0, 1)\n",
    "        del model\n",
    "\n",
    "        return input_img\n",
    "\n",
    "    def transfer_style(self, out_image_path):\n",
    "        input_img = self.content_img.clone()\n",
    "    # if you want to use white noise instead uncomment the below line:\n",
    "    #input_img = torch.randn(content_img.data.size(), device=device)\n",
    "\n",
    "    # add the original input image to the figure:\n",
    "\n",
    "        output = self.run_style_transfer(self.cnn, self.cnn_normalization_mean, self.cnn_normalization_std,\n",
    "                                self.content_img, self.style_img, input_img)\n",
    "\n",
    "\n",
    "\n",
    "        unloader = transforms.ToPILImage() # тензор в кратинку\n",
    "        out_image = output.cpu().clone()\n",
    "        out_image = out_image.squeeze(0)\n",
    "        out_image = unloader(out_image)\n",
    "        out_image.save(out_image_path)\n",
    "\n",
    "        del input_img\n",
    "        return out_image"
   ]
  },
  {
   "cell_type": "code",
   "execution_count": 10,
   "metadata": {
    "colab": {},
    "colab_type": "code",
    "id": "Lgjx0nnXS1RD"
   },
   "outputs": [],
   "source": [
    "object_style_transfer = StyleTransfer(style_image_path='examples/shishkin.JPG',\n",
    "                                                    content_image_path='examples/wood.JPG')"
   ]
  },
  {
   "cell_type": "code",
   "execution_count": null,
   "metadata": {
    "colab": {
     "base_uri": "https://localhost:8080/",
     "height": 1000
    },
    "colab_type": "code",
    "id": "GyNjvFsTTB_a",
    "outputId": "501b9175-36da-442a-eab5-8e51075803b1",
    "scrolled": true
   },
   "outputs": [
    {
     "name": "stdout",
     "output_type": "stream",
     "text": [
      "Building the style transfer model..\n"
     ]
    },
    {
     "name": "stderr",
     "output_type": "stream",
     "text": [
      "C:\\Users\\albin\\Anaconda3\\lib\\site-packages\\ipykernel_launcher.py:7: UserWarning: To copy construct from a tensor, it is recommended to use sourceTensor.clone().detach() or sourceTensor.clone().detach().requires_grad_(True), rather than torch.tensor(sourceTensor).\n",
      "  import sys\n",
      "C:\\Users\\albin\\Anaconda3\\lib\\site-packages\\ipykernel_launcher.py:8: UserWarning: To copy construct from a tensor, it is recommended to use sourceTensor.clone().detach() or sourceTensor.clone().detach().requires_grad_(True), rather than torch.tensor(sourceTensor).\n",
      "  \n"
     ]
    },
    {
     "name": "stdout",
     "output_type": "stream",
     "text": [
      "Optimizing..\n"
     ]
    }
   ],
   "source": [
    "out_image_ex =object_style_transfer.transfer_style(out_image_path= \"examples/shishkin_wood400.jpg\")\n",
    "out_image_ex"
   ]
  }
 ],
 "metadata": {
  "accelerator": "GPU",
  "colab": {
   "name": "alex_style_transfer_class.ipynb",
   "provenance": []
  },
  "kernelspec": {
   "display_name": "Python 3",
   "language": "python",
   "name": "python3"
  },
  "language_info": {
   "codemirror_mode": {
    "name": "ipython",
    "version": 3
   },
   "file_extension": ".py",
   "mimetype": "text/x-python",
   "name": "python",
   "nbconvert_exporter": "python",
   "pygments_lexer": "ipython3",
   "version": "3.6.5"
  }
 },
 "nbformat": 4,
 "nbformat_minor": 1
}
